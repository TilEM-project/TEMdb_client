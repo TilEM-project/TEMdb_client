{
  "cells": [
    {
      "cell_type": "markdown",
      "metadata": {},
      "source": []
    },
    {
      "cell_type": "code",
      "execution_count": 1,
      "metadata": {
        "collapsed": true,
        "execution": {
          "iopub.execute_input": "2024-10-23T17:35:44.027Z",
          "iopub.status.busy": "2024-10-23T17:35:44.018Z",
          "iopub.status.idle": "2024-10-23T17:35:44.035Z",
          "shell.execute_reply": "2024-10-23T17:35:43.910Z"
        },
        "jupyter": {
          "outputs_hidden": false,
          "source_hidden": false
        },
        "nteract": {
          "transient": {
            "deleting": false
          }
        }
      },
      "outputs": [],
      "source": [
        "from temdb_client import create_client\n",
        "from datetime import datetime"
      ]
    },
    {
      "cell_type": "markdown",
      "metadata": {
        "nteract": {
          "transient": {
            "deleting": false
          }
        }
      },
      "source": [
        "### Initialize the TEMdb Client"
      ]
    },
    {
      "cell_type": "code",
      "execution_count": null,
      "metadata": {
        "collapsed": true,
        "execution": {
          "iopub.execute_input": "2024-10-23T17:35:44.056Z",
          "iopub.status.busy": "2024-10-23T17:35:44.048Z",
          "iopub.status.idle": "2024-10-23T17:35:44.070Z",
          "shell.execute_reply": "2024-10-23T17:35:43.922Z"
        },
        "jupyter": {
          "outputs_hidden": false,
          "source_hidden": false
        },
        "nteract": {
          "transient": {
            "deleting": false
          }
        }
      },
      "outputs": [],
      "source": [
        "client = create_client(\"http://localhost:80\")"
      ]
    },
    {
      "cell_type": "code",
      "execution_count": null,
      "metadata": {},
      "outputs": [],
      "source": [
        "import asyncio\n",
        "import logging\n",
        "from typing import List, Dict, Any\n",
        "\n",
        "from temdb_client import create_client, AsyncTEMdbClient\n",
        "from temdb_client.models.specimen import SpecimenCreate\n",
        "from temdb_client.models.block import BlockCreate\n",
        "from temdb_client.models.substrate import SubstrateCreate, Aperture\n",
        "from temdb_client.models.cutting_session import CuttingSessionCreate\n",
        "from temdb_client.models.section import SectionCreate\n",
        "from temdb_client.models.roi import ROICreate\n",
        "from temdb_client.models.task import AcquisitionTaskCreate\n",
        "\n",
        "API_BASE_URL = \"http://localhost:80\"\n",
        "API_KEY = None \n",
        "SPECIMEN_ID = \"TESTSPEC001\"\n",
        "BLOCK_ID = \"TESTBLOCK001\"\n",
        "TAPE1_ID = \"TESTTAPE001\"\n",
        "TAPE2_ID = \"TESTTAPE002\"\n",
        "SESSION_ID = \"TESTCUT001\"\n",
        "NUM_APERTURES_PER_TAPE = 2500\n",
        "TOTAL_SECTIONS = NUM_APERTURES_PER_TAPE * 2\n",
        "\n",
        "def create_square_roi_params() -> Dict[str, Any]:\n",
        "    size_nm = 1_000_000 # 1mm\n",
        "    points = [\n",
        "        [0.0, 0.0],\n",
        "        [size_nm, 0.0],\n",
        "        [size_nm, size_nm],\n",
        "        [0.0, size_nm]\n",
        "    ]\n",
        "    return {\"shape\": \"polygon\", \"polygon_nm\": {\"points\": points}}\n",
        "\n",
        "async def run_test_case():\n",
        "    \"\"\"Runs the test case to populate TEMdb.\"\"\"\n",
        "\n",
        "    print(\"Initializing TEMdb client...\")\n",
        "    client: AsyncTEMdbClient = create_client(\n",
        "        base_url=API_BASE_URL,\n",
        "        api_key=API_KEY,\n",
        "        async_mode=True,\n",
        "        debug=True\n",
        "    )\n",
        "\n",
        "    async with client:\n",
        "        print(\"--- Step 1: Create Specimen ---\")\n",
        "        specimen_data = SpecimenCreate(\n",
        "            specimen_id=SPECIMEN_ID,\n",
        "            description=f\"Test specimen for {TOTAL_SECTIONS} sections\"\n",
        "        )\n",
        "        specimen = await client.specimen.create(specimen_data)\n",
        "        print(f\"Created Specimen: {specimen.specimen_id}\")\n",
        "\n",
        "        print(\"--- Step 2: Create Block ---\")\n",
        "        block_data = BlockCreate(\n",
        "            block_id=BLOCK_ID,\n",
        "            specimen_id=specimen.specimen_id,\n",
        "            microCT_info={\"scan_id\": \"CT_SCAN_XYZ\"}\n",
        "        )\n",
        "        block = await client.block.create(block_data)\n",
        "        print(f\"Created Block: {block.block_id}\")\n",
        "\n",
        "        print(\"--- Step 3: Create Substrates (Tapes) ---\")\n",
        "        tape1_apertures = [Aperture(uid=f\"{TAPE1_ID}_A{i}\", index=i, status=\"available\") for i in range(NUM_APERTURES_PER_TAPE)]\n",
        "        tape2_apertures = [Aperture(uid=f\"{TAPE2_ID}_A{i}\", index=i, status=\"available\") for i in range(NUM_APERTURES_PER_TAPE)]\n",
        "\n",
        "        tape1_data = SubstrateCreate(\n",
        "            media_id=TAPE1_ID,\n",
        "            media_type=\"tape\",\n",
        "            apertures=tape1_apertures,\n",
        "            status=\"new\",\n",
        "            uid=TAPE1_ID\n",
        "        )\n",
        "        tape2_data = SubstrateCreate(\n",
        "            media_id=TAPE2_ID,\n",
        "            media_type=\"tape\",\n",
        "            apertures=tape2_apertures,\n",
        "            status=\"new\",\n",
        "            uid=TAPE2_ID\n",
        "        )\n",
        "\n",
        "        tape1 = await client.substrate.create(tape1_data)\n",
        "        print(f\"Created Substrate: {tape1.media_id}\")\n",
        "        tape2 = await client.substrate.create(tape2_data)\n",
        "        print(f\"Created Substrate: {tape2.media_id}\")\n",
        "\n",
        "        print(\"--- Step 4: Create Cutting Session ---\")\n",
        "        session_data = CuttingSessionCreate(\n",
        "            cutting_session_id=SESSION_ID,\n",
        "            block_id=block.block_id,\n",
        "            start_time=datetime.datetime.now(datetime.timezone.utc),\n",
        "            sectioning_device=\"VirtualMicrotome\",\n",
        "            media_type=\"tape\",\n",
        "            specimen_id=specimen.specimen_id \n",
        "        )\n",
        "        session = await client.cutting_session.create(session_data)\n",
        "        print(f\"Created Cutting Session: {session.cutting_session_id}\")\n",
        "\n",
        "        print(f\"--- Step 5: Create {TOTAL_SECTIONS} Sections (Loop) ---\")\n",
        "\n",
        "        all_sections = []\n",
        "        for i in range(TOTAL_SECTIONS):\n",
        "            section_num = i + 1\n",
        "            if i < NUM_APERTURES_PER_TAPE:\n",
        "                current_tape = tape1\n",
        "                current_apertures = tape1_apertures\n",
        "                aperture_idx_on_tape = i\n",
        "            else:\n",
        "                current_tape = tape2\n",
        "                current_apertures = tape2_apertures\n",
        "                aperture_idx_on_tape = i - NUM_APERTURES_PER_TAPE\n",
        "\n",
        "            aperture = current_apertures[aperture_idx_on_tape]\n",
        "\n",
        "            section_data = SectionCreate(\n",
        "                cutting_session_id=session.cutting_session_id,\n",
        "                media_id=current_tape.media_id,\n",
        "                section_number=section_num,\n",
        "                timestamp=datetime.datetime.now(datetime.timezone.utc), \n",
        "                aperture_index=aperture.index,\n",
        "                aperture_uid=aperture.uid\n",
        "            )\n",
        "            try:\n",
        "                created_section = await client.section.create(section_data)\n",
        "                all_sections.append(created_section)\n",
        "                if (i + 1) % 100 == 0: \n",
        "                     print(f\"  Created section {i+1}/{TOTAL_SECTIONS}\")\n",
        "            except Exception as e:\n",
        "                print(f\"  Failed to create section {section_num}: {e}\")\n",
        "                raise e \n",
        "        print(f\"Finished creating {len(all_sections)} sections.\")\n",
        "\n",
        "        print(f\"--- Step 6: Create {len(all_sections)} ROIs (Loop) ---\")\n",
        "        all_rois = []\n",
        "        roi_params = create_square_roi_params()\n",
        "        for i, section in enumerate(all_sections):\n",
        "            roi_id = section.section_number \n",
        "            roi_data = ROICreate(\n",
        "                roi_id=roi_id,\n",
        "                section_id=section.section_id,\n",
        "                specimen_id=section.specimen_id, \n",
        "                block_id=section.block_id,\n",
        "                section_number=section.section_number,\n",
        "                roi_parameters=roi_params,\n",
        "                parent_roi_id=None \n",
        "            )\n",
        "            try:\n",
        "                created_roi = await client.roi.create(roi_data)\n",
        "                all_rois.append(created_roi)\n",
        "                if (i + 1) % 100 == 0: \n",
        "                    print(f\"  Created ROI {i+1}/{len(all_sections)}\")\n",
        "            except Exception as e:\n",
        "                print(f\"  Failed to create ROI for section {section.section_id}: {e}\")\n",
        "                raise e\n",
        "        print(f\"Finished creating {len(all_rois)} ROIs.\")\n",
        "\n",
        "\n",
        "        print(f\"--- Step 7: Create {len(all_rois)} Acquisition Tasks (Batch) ---\")\n",
        "        tasks_to_create: List[AcquisitionTaskCreate] = []\n",
        "        for roi in all_rois:\n",
        "            task_id = f\"TASK_{roi.specimen_id}_{roi.block_id}_{roi.roi_id}\"\n",
        "            task_data = AcquisitionTaskCreate(\n",
        "                task_id=task_id,\n",
        "                specimen_id=roi.specimen_id,\n",
        "                block_id=roi.block_id,\n",
        "                roi_id=roi.roi_id,\n",
        "                tags=[\"bulk_test_case\"]\n",
        "                \n",
        "            )\n",
        "            tasks_to_create.append(task_data)\n",
        "\n",
        "        if tasks_to_create:\n",
        "            try:\n",
        "                chunk_size = 500\n",
        "                created_tasks_count = 0\n",
        "                for j in range(0, len(tasks_to_create), chunk_size):\n",
        "                    chunk = tasks_to_create[j:j + chunk_size]\n",
        "                    print(f\"  Submitting task batch {j//chunk_size + 1} ({len(chunk)} tasks)...\")\n",
        "                    batch_result = await client.acquisition_task.create_batch(chunk)\n",
        "                    created_tasks_count += len(batch_result)\n",
        "                    print(f\"  ...batch created {len(batch_result)} tasks.\")\n",
        "                print(f\"Finished creating {created_tasks_count} acquisition tasks via batch.\")\n",
        "            except Exception as e:\n",
        "                 print(f\"  Failed to create task batch: {e}\")\n",
        "        else:\n",
        "             print(\"No ROIs available to create tasks for.\")\n",
        "\n",
        "        print(\"--- Test Case Script Finished ---\")\n",
        "\n",
        "\n",
        "if __name__ == \"__main__\":\n",
        "    print(\"Running TEMdb Test Case Script...\")\n",
        "    logging.basicConfig(level=logging.INFO)\n",
        "    logging.getLogger(\"temdb_client\").setLevel(logging.DEBUG) \n",
        "\n",
        "    try:\n",
        "        loop = asyncio.get_running_loop()\n",
        "        print(\"Detected running event loop. Scheduling coroutine.\")\n",
        "        \n",
        "        if loop.is_running():\n",
        "            \n",
        "             print(\"WARNING: Cannot reliably run in already running loop from __main__.\")\n",
        "             print(\"         Consider running 'await run_test_case()' directly in the cell.\")\n",
        "        else:\n",
        "             loop.run_until_complete(run_test_case())\n",
        "\n",
        "    except RuntimeError:\n",
        "        print(\"No running event loop detected. Using asyncio.run().\")\n",
        "        asyncio.run(run_test_case())\n",
        "\n",
        "    print(\"Script completed.\")\n"
      ]
    },
    {
      "cell_type": "code",
      "execution_count": null,
      "metadata": {},
      "outputs": [],
      "source": [
        "await run_test_case()"
      ]
    },
    {
      "cell_type": "code",
      "execution_count": null,
      "metadata": {},
      "outputs": [],
      "source": [
        "import asyncio\n",
        "import datetime\n",
        "import logging\n",
        "import math\n",
        "from typing import List, Dict, Any, Optional, Literal\n",
        "\n",
        "\n",
        "from temdb_client import create_client, AsyncTEMdbClient\n",
        "from temdb_client.models.specimen import SpecimenCreate\n",
        "from temdb_client.models.block import BlockCreate\n",
        "from temdb_client.models.substrate import SubstrateCreate, Aperture\n",
        "from temdb_client.models.cutting_session import CuttingSessionCreate\n",
        "from temdb_client.models.section import SectionCreate\n",
        "from temdb_client.models.roi import ROICreate\n",
        "from temdb_client.models.task import AcquisitionTaskCreate\n",
        "\n",
        "API_BASE_URL = \"http://localhost:80\" \n",
        "API_KEY = None \n",
        "\n",
        "\n",
        "def create_square_roi_params(size_nm: float = 1_000_000) -> Dict[str, Any]:\n",
        "    \"\"\"Generates parameters for a square ROI.\"\"\"\n",
        "    points = [\n",
        "        [0.0, 0.0], [size_nm, 0.0], [size_nm, size_nm], [0.0, size_nm]\n",
        "    ]\n",
        "    return {\"shape\": \"polygon\", \"polygon_nm\": {\"points\": points}}\n",
        "\n",
        "def generate_apertures(substrate_id: str, num_apertures: int) -> List[Aperture]:\n",
        "    \"\"\"Generates a simple list of apertures.\"\"\"\n",
        "    return [\n",
        "        Aperture(uid=f\"{substrate_id}_A{i}\", index=i, status=\"available\")\n",
        "        for i in range(num_apertures)\n",
        "    ]\n",
        "\n",
        "async def generate_temdb_data(\n",
        "    client: AsyncTEMdbClient,\n",
        "    specimen_prefix: str = \"GENSPEC\",\n",
        "    block_prefix: str = \"GENBLOCK\",\n",
        "    session_prefix: str = \"GENCUT\",\n",
        "    substrate_prefix: str = \"GENMEDIA\",\n",
        "    media_type: Literal['tape', 'wafer', 'grid'] = 'tape',\n",
        "    num_substrates: int = 1,\n",
        "    num_apertures_per_substrate: int = 100,\n",
        "    total_sections_to_create: Optional[int] = None,\n",
        "    create_rois: bool = True,\n",
        "    create_tasks: bool = True,\n",
        "    task_batch_size: int = 500\n",
        "):\n",
        "    \"\"\"\n",
        "    Generates test data in TEMdb based on specified parameters.\n",
        "\n",
        "    Args:\n",
        "        client: An initialized AsyncTEMdbClient instance.\n",
        "        specimen_prefix: Prefix for the generated specimen ID.\n",
        "        block_prefix: Prefix for the generated block ID.\n",
        "        session_prefix: Prefix for the generated cutting session ID.\n",
        "        substrate_prefix: Prefix for the generated substrate media IDs.\n",
        "        media_type: Type of substrate ('tape', 'wafer', 'grid').\n",
        "        num_substrates: Number of substrate instances to create.\n",
        "        num_apertures_per_substrate: Number of apertures/slots per substrate.\n",
        "                                    For 'tape', this acts as max sections per tape.\n",
        "        total_sections_to_create: Total number of sections desired. If None, creates\n",
        "                                 one section per available aperture across all substrates.\n",
        "        create_rois: Whether to create ROIs for the sections.\n",
        "        create_tasks: Whether to create Acquisition Tasks for the ROIs.\n",
        "        task_batch_size: Number of tasks to create in each batch request.\n",
        "    \"\"\"\n",
        "    print(\"\\n--- Starting Data Generation ---\")\n",
        "    print(f\"Parameters: media_type={media_type}, num_substrates={num_substrates}, \"\n",
        "          f\"apertures_per_substrate={num_apertures_per_substrate}, \"\n",
        "          f\"total_sections={total_sections_to_create or 'all available'}, \"\n",
        "          f\"create_rois={create_rois}, create_tasks={create_tasks}\")\n",
        "\n",
        "    specimen_id = f\"{specimen_prefix}001\"\n",
        "    print(f\"Creating Specimen: {specimen_id}...\")\n",
        "    specimen_data = SpecimenCreate(\n",
        "        specimen_id=specimen_id,\n",
        "        description=f\"Generated specimen ({media_type})\"\n",
        "    )\n",
        "    specimen = await client.specimen.create(specimen_data)\n",
        "    print(f\"  -> Created Specimen: {specimen.specimen_id}\")\n",
        "\n",
        "    block_id = f\"{block_prefix}001\"\n",
        "    print(f\"Creating Block: {block_id}...\")\n",
        "    block_data = BlockCreate(\n",
        "        block_id=block_id,\n",
        "        specimen_id=specimen.specimen_id,\n",
        "        microCT_info={\"source\": \"generated_data\"}\n",
        "    )\n",
        "    block = await client.block.create(block_data)\n",
        "    print(f\"  -> Created Block: {block.block_id}\")\n",
        "\n",
        "    print(f\"Creating {num_substrates} Substrate(s) of type '{media_type}'...\")\n",
        "    created_substrates = []\n",
        "    all_substrate_apertures = [] \n",
        "    for i in range(num_substrates):\n",
        "        substrate_media_id = f\"{substrate_prefix}{i+1:03d}\"\n",
        "        substrate_uid = substrate_media_id \n",
        "        print(f\"  Creating Substrate: {substrate_media_id}...\")\n",
        "\n",
        "        apertures = generate_apertures(substrate_media_id, num_apertures_per_substrate)\n",
        "        all_substrate_apertures.append(apertures)\n",
        "\n",
        "        substrate_data = SubstrateCreate(\n",
        "            media_id=substrate_media_id,\n",
        "            media_type=media_type,\n",
        "            apertures=apertures,\n",
        "            status=\"new\",\n",
        "            uid=substrate_uid\n",
        "        )\n",
        "        substrate = await client.substrate.create(substrate_data)\n",
        "        created_substrates.append(substrate)\n",
        "        print(f\"    -> Created Substrate: {substrate.media_id}\")\n",
        "\n",
        "    total_available_apertures = num_substrates * num_apertures_per_substrate\n",
        "    sections_to_make = total_sections_to_create if total_sections_to_create is not None else total_available_apertures\n",
        "    sections_to_make = min(sections_to_make, total_available_apertures) \n",
        "\n",
        "    if sections_to_make <= 0:\n",
        "        print(\"No sections to create based on parameters.\")\n",
        "        print(\"--- Data Generation Finished ---\")\n",
        "        return\n",
        "\n",
        "    session_id = f\"{session_prefix}001\"\n",
        "    print(f\"Creating Cutting Session: {session_id}...\")\n",
        "    session_data = CuttingSessionCreate(\n",
        "        cutting_session_id=session_id,\n",
        "        block_id=block.block_id,\n",
        "        start_time=datetime.datetime.now(datetime.timezone.utc),\n",
        "        sectioning_device=\"GeneratedDevice\",\n",
        "        media_type=media_type,\n",
        "        specimen_id=specimen.specimen_id\n",
        "    )\n",
        "    session = await client.cutting_session.create(session_data)\n",
        "    print(f\"  -> Created Cutting Session: {session.cutting_session_id}\")\n",
        "\n",
        "    print(f\"Creating {sections_to_make} Section(s)...\")\n",
        "    all_sections = []\n",
        "    assigned_aperture_count = 0\n",
        "    for i in range(sections_to_make):\n",
        "        section_num = i + 1\n",
        "\n",
        "        substrate_idx = assigned_aperture_count // num_apertures_per_substrate\n",
        "        aperture_idx_on_substrate = assigned_aperture_count % num_apertures_per_substrate\n",
        "\n",
        "        if substrate_idx >= len(created_substrates):\n",
        "            print(f\"  WARNING: Ran out of substrates before creating all requested sections. Stopping at {i} sections.\")\n",
        "            break\n",
        "\n",
        "        current_substrate = created_substrates[substrate_idx]\n",
        "        current_aperture = all_substrate_apertures[substrate_idx][aperture_idx_on_substrate]\n",
        "\n",
        "        section_data = SectionCreate(\n",
        "            cutting_session_id=session.cutting_session_id,\n",
        "            media_id=current_substrate.media_id,\n",
        "            section_number=section_num,\n",
        "            timestamp=datetime.datetime.now(datetime.timezone.utc),\n",
        "            aperture_index=current_aperture.index,\n",
        "            aperture_uid=current_aperture.uid\n",
        "        )\n",
        "        try:\n",
        "            created_section = await client.section.create(section_data)\n",
        "            all_sections.append(created_section)\n",
        "            assigned_aperture_count += 1\n",
        "            if section_num % 100 == 0:\n",
        "                 print(f\"  Created section {section_num}/{sections_to_make}\")\n",
        "        except Exception as e:\n",
        "            print(f\"  ERROR: Failed to create section {section_num}: {e}\")\n",
        "            raise e \n",
        "    print(f\"  -> Finished creating {len(all_sections)} sections.\")\n",
        "\n",
        "    if not create_rois or not all_sections:\n",
        "        print(\"Skipping ROI creation.\")\n",
        "    else:\n",
        "        print(f\"Creating {len(all_sections)} ROI(s)...\")\n",
        "        all_rois = []\n",
        "        roi_params = create_square_roi_params()\n",
        "        for i, section in enumerate(all_sections):\n",
        "            # TODO: Using section_number as roi_id might cause collisions if run multiple times\n",
        "            # or across different sessions. We need a more robust unique ID generation.\n",
        "            roi_id = f\"{specimen_id}__{substrate_media_id}_{substrate_uid}_{section.section_number}\" #TEMP\n",
        "            roi_data = ROICreate(\n",
        "                roi_id=roi_id,\n",
        "                section_id=section.section_id,\n",
        "                specimen_id=section.specimen_id,\n",
        "                block_id=section.block_id,\n",
        "                section_number=section.section_number,\n",
        "                roi_parameters=roi_params\n",
        "            )\n",
        "            try:\n",
        "                created_roi = await client.roi.create(roi_data)\n",
        "                all_rois.append(created_roi)\n",
        "                if (i + 1) % 100 == 0: \n",
        "                    print(f\"  Created ROI {i+1}/{len(all_sections)}\")\n",
        "            except Exception as e:\n",
        "                print(f\"  ERROR: Failed to create ROI for section {section.section_id}: {e}\")\n",
        "                raise e\n",
        "        print(f\"  -> Finished creating {len(all_rois)} ROIs.\")\n",
        "\n",
        "        \n",
        "        if not create_tasks or not all_rois:\n",
        "            print(\"Skipping Acquisition Task creation.\")\n",
        "        else:\n",
        "            print(f\"Creating {len(all_rois)} Acquisition Task(s) via batch...\")\n",
        "            tasks_to_create: List[AcquisitionTaskCreate] = []\n",
        "            for roi in all_rois:\n",
        "                task_id = f\"TASK_{roi.specimen_id}_{roi.block_id}_{roi.roi_id}\"\n",
        "                task_data = AcquisitionTaskCreate(\n",
        "                    task_id=task_id,\n",
        "                    specimen_id=roi.specimen_id,\n",
        "                    block_id=roi.block_id,\n",
        "                    roi_id=roi.roi_id,\n",
        "                    tags=[f\"generated_{media_type}\"]\n",
        "                )\n",
        "                tasks_to_create.append(task_data)\n",
        "\n",
        "            if tasks_to_create:\n",
        "                try:\n",
        "                    created_tasks_count = 0\n",
        "                    for j in range(0, len(tasks_to_create), task_batch_size):\n",
        "                        chunk = tasks_to_create[j:j + task_batch_size]\n",
        "                        print(f\"  Submitting task batch {j//task_batch_size + 1} ({len(chunk)} tasks)...\")\n",
        "                        batch_result = await client.acquisition_task.create_batch(chunk)\n",
        "                        created_tasks_count += len(batch_result)\n",
        "                        print(f\"    -> Batch created {len(batch_result)} tasks.\")\n",
        "                    print(f\"  -> Finished creating {created_tasks_count} acquisition tasks via batch.\")\n",
        "                except Exception as e:\n",
        "                     print(f\"  ERROR: Failed to create task batch: {e}\")\n",
        "            else:\n",
        "                 print(\"No ROIs available to create tasks for.\")\n",
        "\n",
        "    print(\"--- Data Generation Finished ---\")\n",
        "\n",
        "\n",
        "async def main():\n",
        "    \"\"\"Main function to run different generation scenarios.\"\"\"\n",
        "    print(\"Initializing TEMdb client for generation...\")\n",
        "    client: AsyncTEMdbClient = create_client(\n",
        "        base_url=API_BASE_URL,\n",
        "        api_key=API_KEY,\n",
        "        async_mode=True,\n",
        "        debug=False\n",
        "    )\n",
        "\n",
        "    async with client:\n",
        "        await generate_temdb_data(\n",
        "            client=client,\n",
        "            specimen_prefix=\"TAPE_SPEC\",\n",
        "            media_type='tape',\n",
        "            num_substrates=2,\n",
        "            num_apertures_per_substrate=25,\n",
        "            total_sections_to_create=50\n",
        "        )\n",
        "        await generate_temdb_data(\n",
        "            client=client,\n",
        "            specimen_prefix=\"WAFER_SPEC\",\n",
        "            media_type='wafer',\n",
        "            num_substrates=1,\n",
        "            num_apertures_per_substrate=100,\n",
        "            total_sections_to_create=100 \n",
        "        )\n",
        "\n",
        "        await generate_temdb_data(\n",
        "            client=client,\n",
        "            specimen_prefix=\"GRID_SPEC\",\n",
        "            media_type='grid',\n",
        "            num_substrates=1,\n",
        "            num_apertures_per_substrate=1,\n",
        "            total_sections_to_create=1\n",
        "        )\n",
        "\n",
        "        await generate_temdb_data(\n",
        "            client=client,\n",
        "            specimen_prefix=\"MULTIGRID_SPEC\",\n",
        "            media_type='grid',\n",
        "            num_substrates=10, \n",
        "            num_apertures_per_substrate=1,\n",
        "            total_sections_to_create=10\n",
        "        )\n",
        "\n",
        "        await generate_temdb_data(\n",
        "            client=client,\n",
        "            specimen_prefix=\"NOTASK_SPEC\",\n",
        "            media_type='tape',\n",
        "            num_substrates=1,\n",
        "            num_apertures_per_substrate=20,\n",
        "            total_sections_to_create=20,\n",
        "            create_tasks=False \n",
        "        )\n",
        "\n",
        "\n",
        "if __name__ == \"__main__\":\n",
        "    print(\"Running Generic TEMdb Data Generator Script...\")\n",
        "    logging.basicConfig(level=logging.INFO)\n",
        "    \n",
        "    try:\n",
        "        loop = asyncio.get_running_loop()\n",
        "        print(\"Detected running event loop. Scheduling coroutine.\")\n",
        "        if loop.is_running():\n",
        "             print(\"WARNING: Cannot reliably run in already running loop from __main__.\")\n",
        "             print(\"         Consider running 'await main()' directly in the cell/environment.\")\n",
        "        else:\n",
        "             loop.run_until_complete(main())\n",
        "    except RuntimeError:\n",
        "        print(\"No running event loop detected. Using asyncio.run().\")\n",
        "        asyncio.run(main())\n",
        "\n",
        "    print(\"Script completed.\")\n",
        "\n"
      ]
    },
    {
      "cell_type": "code",
      "execution_count": null,
      "metadata": {},
      "outputs": [],
      "source": [
        "await main()"
      ]
    },
    {
      "cell_type": "code",
      "execution_count": null,
      "metadata": {},
      "outputs": [],
      "source": [
        "print(client.get_example_usage())"
      ]
    },
    {
      "cell_type": "markdown",
      "metadata": {
        "nteract": {
          "transient": {
            "deleting": false
          }
        }
      },
      "source": [
        "### Specimens"
      ]
    },
    {
      "cell_type": "markdown",
      "metadata": {
        "nteract": {
          "transient": {
            "deleting": false
          }
        }
      },
      "source": [
        "#### Create"
      ]
    },
    {
      "cell_type": "code",
      "execution_count": null,
      "metadata": {
        "collapsed": true,
        "execution": {
          "iopub.execute_input": "2024-10-23T17:37:13.785Z",
          "iopub.status.busy": "2024-10-23T17:37:13.769Z",
          "iopub.status.idle": "2024-10-23T17:37:13.815Z",
          "shell.execute_reply": "2024-10-23T17:37:13.824Z"
        },
        "jupyter": {
          "outputs_hidden": false,
          "source_hidden": false
        },
        "nteract": {
          "transient": {
            "deleting": false
          }
        }
      },
      "outputs": [],
      "source": [
        "await client.specimen.create({\n",
        "  \"specimen_id\": \"example_specimen_1\",\n",
        "  \"description\": \"An example specimen\",\n",
        "  \"created_at\": datetime.now().isoformat(),\n",
        "  \"updated_at\": datetime.now().isoformat(),\n",
        "})"
      ]
    },
    {
      "cell_type": "markdown",
      "metadata": {
        "nteract": {
          "transient": {
            "deleting": false
          }
        }
      },
      "source": [
        "#### List"
      ]
    },
    {
      "cell_type": "code",
      "execution_count": null,
      "metadata": {
        "collapsed": true,
        "execution": {
          "iopub.execute_input": "2024-10-23T17:39:19.320Z",
          "iopub.status.busy": "2024-10-23T17:39:19.304Z",
          "iopub.status.idle": "2024-10-23T17:39:19.353Z",
          "shell.execute_reply": "2024-10-23T17:39:19.364Z"
        },
        "jupyter": {
          "outputs_hidden": false,
          "source_hidden": false
        },
        "nteract": {
          "transient": {
            "deleting": false
          }
        }
      },
      "outputs": [],
      "source": [
        "await client.specimen.list()"
      ]
    },
    {
      "cell_type": "markdown",
      "metadata": {
        "nteract": {
          "transient": {
            "deleting": false
          }
        }
      },
      "source": [
        "#### Update"
      ]
    },
    {
      "cell_type": "code",
      "execution_count": null,
      "metadata": {
        "collapsed": true,
        "execution": {
          "iopub.execute_input": "2024-10-23T17:39:24.065Z",
          "iopub.status.busy": "2024-10-23T17:39:24.049Z",
          "iopub.status.idle": "2024-10-23T17:39:24.095Z",
          "shell.execute_reply": "2024-10-23T17:39:24.105Z"
        },
        "jupyter": {
          "outputs_hidden": false,
          "source_hidden": false
        },
        "nteract": {
          "transient": {
            "deleting": false
          }
        }
      },
      "outputs": [],
      "source": [
        "await client.specimen.update(\n",
        "  \"example_specimen_1\",\n",
        "  {\"description\": \"A new description!\"},\n",
        ")"
      ]
    },
    {
      "cell_type": "markdown",
      "metadata": {
        "nteract": {
          "transient": {
            "deleting": false
          }
        }
      },
      "source": [
        "#### Get"
      ]
    },
    {
      "cell_type": "code",
      "execution_count": null,
      "metadata": {
        "collapsed": true,
        "execution": {
          "iopub.execute_input": "2024-10-23T17:45:18.622Z",
          "iopub.status.busy": "2024-10-23T17:45:18.492Z",
          "iopub.status.idle": "2024-10-23T17:45:18.648Z",
          "shell.execute_reply": "2024-10-23T17:45:18.662Z"
        },
        "jupyter": {
          "outputs_hidden": false,
          "source_hidden": false
        },
        "nteract": {
          "transient": {
            "deleting": false
          }
        }
      },
      "outputs": [],
      "source": [
        "await client.specimen.get(\"example_specimen_1\")"
      ]
    },
    {
      "cell_type": "markdown",
      "metadata": {
        "nteract": {
          "transient": {
            "deleting": false
          }
        }
      },
      "source": [
        "### Block"
      ]
    },
    {
      "cell_type": "markdown",
      "metadata": {
        "nteract": {
          "transient": {
            "deleting": false
          }
        }
      },
      "source": [
        "#### Create"
      ]
    },
    {
      "cell_type": "code",
      "execution_count": null,
      "metadata": {
        "collapsed": true,
        "execution": {
          "iopub.execute_input": "2024-10-23T17:39:32.736Z",
          "iopub.status.busy": "2024-10-23T17:39:32.716Z",
          "iopub.status.idle": "2024-10-23T16:23:17.528Z",
          "shell.execute_reply": "2024-10-23T17:35:43.971Z"
        },
        "jupyter": {
          "outputs_hidden": false,
          "source_hidden": false
        },
        "nteract": {
          "transient": {
            "deleting": false
          }
        }
      },
      "outputs": [],
      "source": [
        "await client.block.create({\n",
        "  \"block_id\": \"example_block_1\",\n",
        "  \"specimen_id\": \"example_specimen_1\",\n",
        "  \"microCT_info\": {},\n",
        "})"
      ]
    },
    {
      "cell_type": "markdown",
      "metadata": {
        "nteract": {
          "transient": {
            "deleting": false
          }
        }
      },
      "source": [
        "#### List"
      ]
    },
    {
      "cell_type": "code",
      "execution_count": null,
      "metadata": {
        "collapsed": true,
        "execution": {
          "iopub.execute_input": "2024-10-23T17:45:08.987Z",
          "iopub.status.busy": "2024-10-23T17:45:08.972Z",
          "shell.execute_reply": "2024-10-23T17:35:43.983Z"
        },
        "jupyter": {
          "outputs_hidden": false,
          "source_hidden": false
        },
        "nteract": {
          "transient": {
            "deleting": false
          }
        }
      },
      "outputs": [],
      "source": [
        "await client.block.list(\"example_specimen_1\")"
      ]
    },
    {
      "cell_type": "markdown",
      "metadata": {
        "nteract": {
          "transient": {
            "deleting": false
          }
        }
      },
      "source": [
        "#### Update"
      ]
    },
    {
      "cell_type": "code",
      "execution_count": null,
      "metadata": {
        "collapsed": true,
        "execution": {
          "iopub.execute_input": "2024-10-23T17:46:27.598Z",
          "iopub.status.busy": "2024-10-23T17:46:27.580Z",
          "shell.execute_reply": "2024-10-23T17:35:43.993Z"
        },
        "jupyter": {
          "outputs_hidden": false,
          "source_hidden": false
        },
        "nteract": {
          "transient": {
            "deleting": false
          }
        }
      },
      "outputs": [],
      "source": [
        "await client.block.update(\n",
        "  \"example_specimen_1\",\n",
        "  \"example_block_1\",\n",
        "  {\"microCT_info\": {\"example_key\": \"example data\"}},\n",
        ")"
      ]
    },
    {
      "cell_type": "markdown",
      "metadata": {
        "nteract": {
          "transient": {
            "deleting": false
          }
        }
      },
      "source": [
        "#### Get"
      ]
    },
    {
      "cell_type": "code",
      "execution_count": null,
      "metadata": {
        "collapsed": true,
        "execution": {
          "iopub.execute_input": "2024-10-23T17:47:20.030Z",
          "iopub.status.busy": "2024-10-23T17:47:20.015Z",
          "shell.execute_reply": "2024-10-23T17:35:27.999Z"
        },
        "jupyter": {
          "outputs_hidden": false,
          "source_hidden": false
        },
        "nteract": {
          "transient": {
            "deleting": false
          }
        }
      },
      "outputs": [],
      "source": [
        "await client.block.get(\"example_specimen_1\", \"example_block_1\")"
      ]
    },
    {
      "cell_type": "markdown",
      "metadata": {
        "nteract": {
          "transient": {
            "deleting": false
          }
        }
      },
      "source": [
        "### Cutting Session"
      ]
    },
    {
      "cell_type": "markdown",
      "metadata": {
        "nteract": {
          "transient": {
            "deleting": false
          }
        }
      },
      "source": [
        "#### Create"
      ]
    },
    {
      "cell_type": "code",
      "execution_count": null,
      "metadata": {
        "collapsed": true,
        "execution": {
          "iopub.execute_input": "2024-10-23T17:47:28.204Z",
          "iopub.status.busy": "2024-10-23T17:47:28.182Z",
          "iopub.status.idle": "2024-10-23T16:43:51.441Z",
          "shell.execute_reply": "2024-10-23T16:43:51.447Z"
        },
        "jupyter": {
          "outputs_hidden": false,
          "source_hidden": false
        },
        "nteract": {
          "transient": {
            "deleting": false
          }
        }
      },
      "outputs": [],
      "source": [
        "await client.cutting_session.create({\n",
        "  \"cutting_session_id\": \"example_cutting_session_1\",\n",
        "  \"start_time\": datetime.now().isoformat(),\n",
        "  \"operator\": \"me\",\n",
        "  \"sectioning_device\": \"cookie\",\n",
        "  \"media_type\": \"tape\",\n",
        "  \"specimen_id\": \"example_specimen_1\",\n",
        "  \"block_id\": \"example_block_1\",\n",
        "})"
      ]
    },
    {
      "cell_type": "markdown",
      "metadata": {
        "nteract": {
          "transient": {
            "deleting": false
          }
        }
      },
      "source": [
        "#### List"
      ]
    },
    {
      "cell_type": "code",
      "execution_count": null,
      "metadata": {
        "collapsed": true,
        "execution": {
          "iopub.execute_input": "2024-10-23T17:47:38.358Z",
          "iopub.status.busy": "2024-10-23T17:47:38.309Z"
        },
        "jupyter": {
          "outputs_hidden": false,
          "source_hidden": false
        },
        "nteract": {
          "transient": {
            "deleting": false
          }
        }
      },
      "outputs": [],
      "source": [
        "await client.cutting_session.list(\"example_specimen_1\", \"example_block_1\")"
      ]
    },
    {
      "cell_type": "markdown",
      "metadata": {
        "nteract": {
          "transient": {
            "deleting": false
          }
        }
      },
      "source": [
        "#### Update"
      ]
    },
    {
      "cell_type": "code",
      "execution_count": null,
      "metadata": {
        "collapsed": true,
        "execution": {
          "iopub.execute_input": "2024-10-23T17:48:20.633Z",
          "iopub.status.busy": "2024-10-23T17:48:20.618Z"
        },
        "jupyter": {
          "outputs_hidden": false,
          "source_hidden": false
        },
        "nteract": {
          "transient": {
            "deleting": false
          }
        }
      },
      "outputs": [],
      "source": [
        "await client.cutting_session.update(\n",
        "  \"example_cutting_session_1\",\n",
        "  {\"end_time\": datetime.now().isoformat()},\n",
        ")"
      ]
    },
    {
      "cell_type": "markdown",
      "metadata": {
        "nteract": {
          "transient": {
            "deleting": false
          }
        }
      },
      "source": [
        "#### Get"
      ]
    },
    {
      "cell_type": "code",
      "execution_count": null,
      "metadata": {
        "collapsed": true,
        "execution": {
          "iopub.execute_input": "2024-10-23T17:48:27.953Z",
          "iopub.status.busy": "2024-10-23T17:48:27.935Z"
        },
        "jupyter": {
          "outputs_hidden": false,
          "source_hidden": false
        },
        "nteract": {
          "transient": {
            "deleting": false
          }
        }
      },
      "outputs": [],
      "source": [
        "await client.cutting_session.get(\"example_specimen_1\", \"example_block_1\", \"example_cutting_session_1\")"
      ]
    },
    {
      "cell_type": "markdown",
      "metadata": {
        "nteract": {
          "transient": {
            "deleting": false
          }
        }
      },
      "source": [
        "### Section"
      ]
    },
    {
      "cell_type": "markdown",
      "metadata": {
        "nteract": {
          "transient": {
            "deleting": false
          }
        }
      },
      "source": [
        "#### Create"
      ]
    },
    {
      "cell_type": "code",
      "execution_count": null,
      "metadata": {
        "collapsed": true,
        "execution": {
          "iopub.execute_input": "2024-10-23T17:48:33.023Z",
          "iopub.status.busy": "2024-10-23T17:48:33.007Z",
          "iopub.status.idle": "2024-10-23T16:57:37.561Z",
          "shell.execute_reply": "2024-10-23T16:57:37.570Z"
        },
        "jupyter": {
          "outputs_hidden": false,
          "source_hidden": false
        },
        "nteract": {
          "transient": {
            "deleting": false
          }
        }
      },
      "outputs": [],
      "source": [
        "await client.section.create({\n",
        "  \"section_id\": \"example_section_1\",\n",
        "  \"section_number\": 1,\n",
        "  \"optical_image\": {},\n",
        "  \"section_metrics\": {\n",
        "    \"sectioning_metadata\": {},\n",
        "  },\n",
        "  \"media_type\": \"tape\",\n",
        "  \"media_id\": \"example_media\",\n",
        "  \"relative_position\": 10,\n",
        "  \"barcode\": \"example_barcode\",\n",
        "  \"cutting_session_id\": \"example_cutting_session_1\",\n",
        "})\n",
        "  "
      ]
    },
    {
      "cell_type": "markdown",
      "metadata": {
        "nteract": {
          "transient": {
            "deleting": false
          }
        }
      },
      "source": [
        "#### List"
      ]
    },
    {
      "cell_type": "code",
      "execution_count": null,
      "metadata": {
        "collapsed": true,
        "execution": {
          "iopub.execute_input": "2024-10-23T17:01:43.998Z",
          "iopub.status.busy": "2024-10-23T17:01:43.987Z"
        },
        "jupyter": {
          "outputs_hidden": false,
          "source_hidden": false
        },
        "nteract": {
          "transient": {
            "deleting": false
          }
        }
      },
      "outputs": [],
      "source": [
        "await client.section.list(\"example_cutting_session_1\")"
      ]
    },
    {
      "cell_type": "markdown",
      "metadata": {
        "nteract": {
          "transient": {
            "deleting": false
          }
        }
      },
      "source": [
        "#### Update"
      ]
    },
    {
      "cell_type": "code",
      "execution_count": null,
      "metadata": {
        "collapsed": true,
        "execution": {
          "iopub.execute_input": "2024-10-23T17:09:36.392Z",
          "iopub.status.busy": "2024-10-23T17:09:36.379Z"
        },
        "jupyter": {
          "outputs_hidden": false,
          "source_hidden": false
        },
        "nteract": {
          "transient": {
            "deleting": false
          }
        }
      },
      "outputs": [],
      "source": [
        "await client.section.update(\n",
        "  \"example_cutting_session_1\",\n",
        "  \"example_section_1\",\n",
        "  {\"section_metrics\": {\"tissue_confidence_score\": 0.5}},\n",
        ")"
      ]
    },
    {
      "cell_type": "markdown",
      "metadata": {
        "nteract": {
          "transient": {
            "deleting": false
          }
        }
      },
      "source": [
        "#### Get"
      ]
    },
    {
      "cell_type": "code",
      "execution_count": null,
      "metadata": {
        "collapsed": true,
        "execution": {
          "iopub.execute_input": "2024-10-23T17:13:16.191Z",
          "iopub.status.busy": "2024-10-23T17:13:16.179Z"
        },
        "jupyter": {
          "outputs_hidden": false,
          "source_hidden": false
        },
        "nteract": {
          "transient": {
            "deleting": false
          }
        }
      },
      "outputs": [],
      "source": [
        "await client.section.get(\"example_cutting_session_1\", \"example_section_1\")"
      ]
    },
    {
      "cell_type": "markdown",
      "metadata": {
        "nteract": {
          "transient": {
            "deleting": false
          }
        }
      },
      "source": [
        "### ROI"
      ]
    },
    {
      "cell_type": "markdown",
      "metadata": {
        "nteract": {
          "transient": {
            "deleting": false
          }
        }
      },
      "source": [
        "#### Create"
      ]
    },
    {
      "cell_type": "code",
      "execution_count": null,
      "metadata": {
        "collapsed": true,
        "execution": {
          "iopub.execute_input": "2024-10-23T18:03:33.138Z",
          "iopub.status.busy": "2024-10-23T18:03:33.124Z",
          "iopub.status.idle": "2024-10-23T18:03:33.273Z",
          "shell.execute_reply": "2024-10-23T18:03:33.285Z"
        },
        "jupyter": {
          "outputs_hidden": false,
          "source_hidden": false
        },
        "nteract": {
          "transient": {
            "deleting": false
          }
        }
      },
      "outputs": [],
      "source": [
        "await client.roi.create({\n",
        "  \"roi_id\": 1,\n",
        "  \"specimen_id\": \"example_specimen_1\",\n",
        "  \"block_id\": \"example_block_1\",\n",
        "  \"section_number\": 1,\n",
        "  \"section_id\": \"example_section_1\",\n",
        "  \"aperture_width_height\": [1, 2],\n",
        "  \"aperture_centroid\": [10, 11],\n",
        "  \"aperture_bounding_box\": [1, 2, 3, 4],\n",
        "  \"optical_nm_per_pixel\": 250,\n",
        "  \"barcode\": \"example_barcode\",\n",
        "})"
      ]
    },
    {
      "cell_type": "markdown",
      "metadata": {
        "nteract": {
          "transient": {
            "deleting": false
          }
        }
      },
      "source": [
        "#### List"
      ]
    },
    {
      "cell_type": "code",
      "execution_count": null,
      "metadata": {
        "collapsed": true,
        "execution": {
          "iopub.execute_input": "2024-10-23T18:04:41.929Z",
          "iopub.status.busy": "2024-10-23T18:04:41.909Z"
        },
        "jupyter": {
          "outputs_hidden": false,
          "source_hidden": false
        },
        "nteract": {
          "transient": {
            "deleting": false
          }
        }
      },
      "outputs": [],
      "source": [
        "await client.roi.list(\"example_section_1\")"
      ]
    },
    {
      "cell_type": "markdown",
      "metadata": {
        "nteract": {
          "transient": {
            "deleting": false
          }
        }
      },
      "source": [
        "#### Update"
      ]
    },
    {
      "cell_type": "code",
      "execution_count": null,
      "metadata": {
        "collapsed": true,
        "execution": {
          "iopub.execute_input": "2024-10-23T18:05:56.047Z",
          "iopub.status.busy": "2024-10-23T18:05:56.031Z",
          "iopub.status.idle": "2024-10-23T18:05:56.082Z",
          "shell.execute_reply": "2024-10-23T18:05:56.095Z"
        },
        "jupyter": {
          "outputs_hidden": false,
          "source_hidden": false
        },
        "nteract": {
          "transient": {
            "deleting": false
          }
        }
      },
      "outputs": [],
      "source": [
        "await client.roi.update(1, {\"updated_at\": datetime.now().isoformat()})"
      ]
    },
    {
      "cell_type": "markdown",
      "metadata": {
        "nteract": {
          "transient": {
            "deleting": false
          }
        }
      },
      "source": [
        "#### Get"
      ]
    },
    {
      "cell_type": "code",
      "execution_count": null,
      "metadata": {
        "collapsed": true,
        "execution": {
          "iopub.execute_input": "2024-10-23T18:06:16.892Z",
          "iopub.status.busy": "2024-10-23T18:06:16.874Z",
          "iopub.status.idle": "2024-10-23T18:06:16.921Z",
          "shell.execute_reply": "2024-10-23T18:06:16.931Z"
        },
        "jupyter": {
          "outputs_hidden": false,
          "source_hidden": false
        },
        "nteract": {
          "transient": {
            "deleting": false
          }
        }
      },
      "outputs": [],
      "source": [
        "await client.roi.get(1)"
      ]
    },
    {
      "cell_type": "markdown",
      "metadata": {
        "nteract": {
          "transient": {
            "deleting": false
          }
        }
      },
      "source": [
        "### Acqusition Task Session"
      ]
    },
    {
      "cell_type": "markdown",
      "metadata": {
        "nteract": {
          "transient": {
            "deleting": false
          }
        }
      },
      "source": [
        "#### Create"
      ]
    },
    {
      "cell_type": "code",
      "execution_count": null,
      "metadata": {
        "collapsed": true,
        "execution": {
          "iopub.execute_input": "2024-10-23T18:13:54.651Z",
          "iopub.status.busy": "2024-10-23T18:13:54.632Z"
        },
        "jupyter": {
          "outputs_hidden": false,
          "source_hidden": false
        },
        "nteract": {
          "transient": {
            "deleting": false
          }
        }
      },
      "outputs": [],
      "source": [
        "await client.acquisition_task.create({\n",
        "  \"session_id\": \"example_imaging_session_1\",\n",
        "  \"specimen_id\": \"example_specimen_1\",\n",
        "  \"block_id\": \"example_block_1\",\n",
        "  \"media_type\": \"tape\",\n",
        "  \"media_id\": \"example media ID\",\n",
        "  \"start_time\": datetime.now().isoformat(),\n",
        "  \"status\": \"In Progress\",\n",
        "  \"rois\": [1],\n",
        "})"
      ]
    },
    {
      "cell_type": "markdown",
      "metadata": {
        "nteract": {
          "transient": {
            "deleting": false
          }
        }
      },
      "source": [
        "#### List"
      ]
    },
    {
      "cell_type": "code",
      "execution_count": null,
      "metadata": {
        "collapsed": true,
        "execution": {
          "iopub.execute_input": "2024-10-23T18:14:49.238Z",
          "iopub.status.busy": "2024-10-23T18:14:49.218Z"
        },
        "jupyter": {
          "outputs_hidden": false,
          "source_hidden": false
        },
        "nteract": {
          "transient": {
            "deleting": false
          }
        }
      },
      "outputs": [],
      "source": [
        "await client.acquisition_task.list(\"example_specimen_1\")"
      ]
    },
    {
      "cell_type": "markdown",
      "metadata": {
        "nteract": {
          "transient": {
            "deleting": false
          }
        }
      },
      "source": [
        "#### Update"
      ]
    },
    {
      "cell_type": "code",
      "execution_count": null,
      "metadata": {
        "collapsed": true,
        "execution": {
          "iopub.execute_input": "2024-10-23T18:54:43.493Z",
          "iopub.status.busy": "2024-10-23T18:54:43.463Z"
        },
        "jupyter": {
          "outputs_hidden": false,
          "source_hidden": false
        },
        "nteract": {
          "transient": {
            "deleting": false
          }
        }
      },
      "outputs": [],
      "source": [
        "await client.acquisition_task.update(\n",
        "  \"example_imaging_session_1\",\n",
        "  {\n",
        "    \"status\": \"Completed\",\n",
        "    \"end_time\": datetime.now().isoformat(),\n",
        "  }\n",
        ")"
      ]
    },
    {
      "cell_type": "markdown",
      "metadata": {
        "nteract": {
          "transient": {
            "deleting": false
          }
        }
      },
      "source": [
        "#### Get"
      ]
    },
    {
      "cell_type": "code",
      "execution_count": null,
      "metadata": {
        "collapsed": true,
        "execution": {
          "iopub.execute_input": "2024-10-23T18:54:52.946Z",
          "iopub.status.busy": "2024-10-23T18:54:52.927Z"
        },
        "jupyter": {
          "outputs_hidden": false,
          "source_hidden": false
        },
        "nteract": {
          "transient": {
            "deleting": false
          }
        }
      },
      "outputs": [],
      "source": [
        "await client.acquisition_task.get(\"example_imaging_session_1\")"
      ]
    },
    {
      "cell_type": "markdown",
      "metadata": {
        "nteract": {
          "transient": {
            "deleting": false
          }
        }
      },
      "source": [
        "### Acquisition"
      ]
    },
    {
      "cell_type": "markdown",
      "metadata": {
        "nteract": {
          "transient": {
            "deleting": false
          }
        }
      },
      "source": [
        "#### Create"
      ]
    },
    {
      "cell_type": "code",
      "execution_count": null,
      "metadata": {
        "collapsed": true,
        "execution": {
          "iopub.execute_input": "2024-10-23T19:05:51.713Z",
          "iopub.status.busy": "2024-10-23T19:05:51.692Z"
        },
        "jupyter": {
          "outputs_hidden": false,
          "source_hidden": false
        },
        "nteract": {
          "transient": {
            "deleting": false
          }
        }
      },
      "outputs": [],
      "source": [
        "await client.acquisition.create({\n",
        "  \"specimen_id\": \"example_specimen_1\",\n",
        "  \"montage_id\": \"example_montage_1\",\n",
        "  \"acquisition_id\": \"example_acquisition_1\",\n",
        "  \"roi_id\": 1,\n",
        "  \"imaging_session_id\": \"example_imaging_session_1\",\n",
        "  \"hardware_settings\": {\n",
        "    \"scope_id\": \"T1\",\n",
        "    \"camera_model\": \"MX1276\",\n",
        "    \"bit_depth\": 10,\n",
        "    \"camera_serial\": \"123abc\",\n",
        "    \"media_type\": \"tape\",\n",
        "  },\n",
        "  \"calibration_settings\": {\n",
        "      \"pixel_size\": 0.5,\n",
        "      \"stig_angle\": 0.5,\n",
        "  },\n",
        "  \"acquisition_settings\": {\n",
        "    \"magnification\": 2000,\n",
        "    \"spot_size\": 4,\n",
        "    \"exposure_time\": 125,\n",
        "    \"tile_size\": [5000, 5000],\n",
        "    \"tile_overlap\": 0.05,\n",
        "  },\n",
        "  \"tilt_angle\": 0,\n",
        "  \"lens_correction\": False,\n",
        "  \"start_time\": datetime.now().isoformat(),\n",
        "})"
      ]
    },
    {
      "cell_type": "markdown",
      "metadata": {
        "nteract": {
          "transient": {
            "deleting": false
          }
        }
      },
      "source": [
        "#### List"
      ]
    },
    {
      "cell_type": "code",
      "execution_count": null,
      "metadata": {
        "collapsed": true,
        "execution": {
          "iopub.execute_input": "2024-10-23T19:06:52.060Z",
          "iopub.status.busy": "2024-10-23T19:06:52.039Z",
          "iopub.status.idle": "2024-10-23T19:06:52.105Z",
          "shell.execute_reply": "2024-10-23T19:06:52.124Z"
        },
        "jupyter": {
          "outputs_hidden": false,
          "source_hidden": false
        },
        "nteract": {
          "transient": {
            "deleting": false
          }
        }
      },
      "outputs": [],
      "source": [
        "await client.acquisition.list()"
      ]
    },
    {
      "cell_type": "markdown",
      "metadata": {
        "nteract": {
          "transient": {
            "deleting": false
          }
        }
      },
      "source": [
        "#### Update"
      ]
    },
    {
      "cell_type": "code",
      "execution_count": null,
      "metadata": {
        "collapsed": true,
        "execution": {
          "iopub.execute_input": "2024-10-23T19:12:09.247Z",
          "iopub.status.busy": "2024-10-23T19:12:09.229Z"
        },
        "jupyter": {
          "outputs_hidden": false,
          "source_hidden": false
        },
        "nteract": {
          "transient": {
            "deleting": false
          }
        }
      },
      "outputs": [],
      "source": [
        "await client.acquisition.update(\n",
        "  \"example_acquisition_1\",\n",
        "  {\n",
        "    \"end_time\": datetime.now().isoformat(),\n",
        "  }\n",
        ")"
      ]
    },
    {
      "cell_type": "markdown",
      "metadata": {
        "nteract": {
          "transient": {
            "deleting": false
          }
        }
      },
      "source": [
        "#### Get"
      ]
    },
    {
      "cell_type": "code",
      "execution_count": null,
      "metadata": {
        "collapsed": true,
        "execution": {
          "iopub.execute_input": "2024-10-23T19:13:12.501Z",
          "iopub.status.busy": "2024-10-23T19:13:12.478Z"
        },
        "jupyter": {
          "outputs_hidden": false,
          "source_hidden": false
        },
        "nteract": {
          "transient": {
            "deleting": false
          }
        }
      },
      "outputs": [],
      "source": [
        "await client.acquisition.get(\"example_acquisition_1\")"
      ]
    },
    {
      "cell_type": "markdown",
      "metadata": {
        "nteract": {
          "transient": {
            "deleting": false
          }
        }
      },
      "source": [
        "### Tile"
      ]
    },
    {
      "cell_type": "markdown",
      "metadata": {
        "nteract": {
          "transient": {
            "deleting": false
          }
        }
      },
      "source": [
        "#### Create"
      ]
    },
    {
      "cell_type": "code",
      "execution_count": null,
      "metadata": {
        "collapsed": true,
        "execution": {
          "iopub.execute_input": "2024-10-23T19:37:27.221Z",
          "iopub.status.busy": "2024-10-23T19:37:27.195Z",
          "iopub.status.idle": "2024-10-23T19:34:46.537Z",
          "shell.execute_reply": "2024-10-23T19:34:46.557Z"
        },
        "jupyter": {
          "outputs_hidden": false,
          "source_hidden": false
        },
        "nteract": {
          "transient": {
            "deleting": false
          }
        }
      },
      "outputs": [],
      "source": [
        "await client.acquisition.add_tile(\n",
        "  \"example_acquisition_2\",\n",
        "  {\n",
        "    \"tile_id\": \"example_tile_2\",\n",
        "    \"raster_index\": 1,\n",
        "    \"stage_position\": {\"x\": 120, \"y\": 150},\n",
        "    \"raster_position\": {\"x\": 10, \"y\": 5},\n",
        "    \"focus_score\": 1,\n",
        "    \"min_value\": 0,\n",
        "    \"max_value\": 128,\n",
        "    \"mean_value\": 55,\n",
        "    \"std_value\": 24,\n",
        "    \"image_path\": \"example s3 path\",\n",
        "    \"matcher\": [],\n",
        "  }\n",
        ")\n",
        "  "
      ]
    },
    {
      "cell_type": "markdown",
      "metadata": {
        "nteract": {
          "transient": {
            "deleting": false
          }
        }
      },
      "source": [
        "#### Count"
      ]
    },
    {
      "cell_type": "code",
      "execution_count": null,
      "metadata": {
        "collapsed": true,
        "execution": {
          "iopub.execute_input": "2024-10-23T19:35:41.510Z",
          "iopub.status.busy": "2024-10-23T19:35:41.479Z",
          "iopub.status.idle": "2024-10-23T19:35:41.563Z",
          "shell.execute_reply": "2024-10-23T19:35:41.584Z"
        },
        "jupyter": {
          "outputs_hidden": false,
          "source_hidden": false
        },
        "nteract": {
          "transient": {
            "deleting": false
          }
        }
      },
      "outputs": [],
      "source": [
        "await client.acquisition.get_tile_count(\"example_acquisition_2\")"
      ]
    },
    {
      "cell_type": "markdown",
      "metadata": {
        "nteract": {
          "transient": {
            "deleting": false
          }
        }
      },
      "source": [
        "#### Get"
      ]
    },
    {
      "cell_type": "code",
      "execution_count": null,
      "metadata": {
        "collapsed": true,
        "execution": {
          "iopub.execute_input": "2024-10-23T19:37:51.913Z",
          "iopub.status.busy": "2024-10-23T19:37:51.891Z"
        },
        "jupyter": {
          "outputs_hidden": false,
          "source_hidden": false
        },
        "nteract": {
          "transient": {
            "deleting": false
          }
        }
      },
      "outputs": [],
      "source": [
        "await client.acquisition.get_tile(\"example_acquisition_2\", \"example_tile_2\")"
      ]
    },
    {
      "cell_type": "code",
      "execution_count": null,
      "metadata": {
        "collapsed": true,
        "jupyter": {
          "outputs_hidden": false,
          "source_hidden": false
        },
        "nteract": {
          "transient": {
            "deleting": false
          }
        }
      },
      "outputs": [],
      "source": []
    }
  ],
  "metadata": {
    "kernel_info": {
      "name": "python3"
    },
    "kernelspec": {
      "display_name": "temdb",
      "language": "python",
      "name": "python3"
    },
    "language_info": {
      "codemirror_mode": {
        "name": "ipython",
        "version": 3
      },
      "file_extension": ".py",
      "mimetype": "text/x-python",
      "name": "python",
      "nbconvert_exporter": "python",
      "pygments_lexer": "ipython3",
      "version": "3.11.8"
    },
    "nteract": {
      "version": "0.28.0"
    }
  },
  "nbformat": 4,
  "nbformat_minor": 0
}
